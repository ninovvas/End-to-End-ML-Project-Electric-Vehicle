{
 "cells": [
  {
   "cell_type": "markdown",
   "id": "1aef8d07-cafb-4b0f-9de0-b9f8b0232d1c",
   "metadata": {},
   "source": [
    "# Overview\n",
    "\n",
    "The project for Machine learning has the goal to create a End-to-End project using teh knowlages during the cource using a data set selected by myself."
   ]
  },
  {
   "cell_type": "markdown",
   "id": "9cd4574a-2fb9-4231-a7f2-c190c338e9ed",
   "metadata": {},
   "source": [
    "# Target of the Project"
   ]
  },
  {
   "cell_type": "code",
   "execution_count": 1,
   "id": "0f1c406e-4ce4-4856-a7b8-4c46b3be2213",
   "metadata": {},
   "outputs": [],
   "source": [
    "%matplotlib inline"
   ]
  },
  {
   "cell_type": "code",
   "execution_count": 2,
   "id": "45937945-99cd-4ad2-810e-a5df8b83c8d6",
   "metadata": {},
   "outputs": [
    {
     "name": "stderr",
     "output_type": "stream",
     "text": [
      "C:\\Users\\GETAC USER\\AppData\\Roaming\\Python\\Python39\\site-packages\\pydantic\\_internal\\_fields.py:128: UserWarning: Field \"model_server_url\" has conflict with protected namespace \"model_\".\n",
      "\n",
      "You may be able to resolve this warning by setting `model_config['protected_namespaces'] = ()`.\n",
      "  warnings.warn(\n",
      "C:\\Users\\GETAC USER\\AppData\\Roaming\\Python\\Python39\\site-packages\\pydantic\\_internal\\_config.py:317: UserWarning: Valid config keys have changed in V2:\n",
      "* 'schema_extra' has been renamed to 'json_schema_extra'\n",
      "  warnings.warn(message, UserWarning)\n"
     ]
    }
   ],
   "source": [
    "import re\n",
    "import pandas as pd\n",
    "import numpy as np\n",
    "import sympy as sp\n",
    "import matplotlib.pyplot as plt\n",
    "\n",
    "import seaborn as sns\n",
    "\n",
    "import mlflow.sklearn\n",
    "\n",
    "from sklearn.base import BaseEstimator, TransformerMixin\n",
    "\n",
    "from sklearn.preprocessing import MinMaxScaler, StandardScaler, LabelEncoder, OneHotEncoder, FunctionTransformer\n",
    "from sklearn.pipeline import Pipeline, FeatureUnion, make_pipeline\n",
    "from sklearn.compose import ColumnTransformer\n",
    "\n",
    "\n",
    "from sklearn.impute import SimpleImputer\n",
    "\n",
    "from sklearn.linear_model import LogisticRegression, LinearRegression\n",
    "\n",
    "from sklearn.model_selection import train_test_split, GridSearchCV, RandomizedSearchCV, cross_val_score\n",
    "\n",
    "from sklearn.metrics import classification_report\n",
    "from sklearn.metrics import mean_squared_error, accuracy_score, precision_recall_fscore_support\n",
    "\n",
    "import mlflow\n",
    "from mlflow.models import infer_signature\n"
   ]
  },
  {
   "cell_type": "markdown",
   "id": "5348e777-7258-488f-a735-4e0d4fe66bfc",
   "metadata": {},
   "source": [
    "# Data Set\n",
    "This dataset shows the Battery Electric Vehicles (BEVs) and Plug-in Hybrid Electric Vehicles (PHEVs) that are currently registered through Washington State Department of Licensing (DOL).\n",
    "https://www.kaggle.com/datasets/rajkumarpandey02/electric-vehicle-population-data/data\n"
   ]
  },
  {
   "cell_type": "markdown",
   "id": "a6651d21-8380-4dad-ac6f-a6ba89cfed6a",
   "metadata": {},
   "source": [
    "\n",
    "# Workflow To Be Followed\n",
    "\n",
    "- Step 1: Loading The Dataset\n",
    "- Step 2: Performing EDA\n",
    "- Step 3: Feature Engineering\n",
    "- Step 4: Model Training & Evaluation "
   ]
  },
  {
   "cell_type": "markdown",
   "id": "8ec3e80e-a939-4b85-8809-bc1bbb540c03",
   "metadata": {},
   "source": [
    "Preparing and run the mlflow instance to log the results of the experements. For each run is set a name of the run with the changes or the target of the run"
   ]
  },
  {
   "cell_type": "code",
   "execution_count": 3,
   "id": "425dfdb2-d642-4bed-a2ef-028fa9d5c3c4",
   "metadata": {},
   "outputs": [
    {
     "ename": "SyntaxError",
     "evalue": "invalid syntax (3424709675.py, line 4)",
     "output_type": "error",
     "traceback": [
      "\u001b[1;36m  Cell \u001b[1;32mIn[3], line 4\u001b[1;36m\u001b[0m\n\u001b[1;33m    mlflow.\u001b[0m\n\u001b[1;37m           ^\u001b[0m\n\u001b[1;31mSyntaxError\u001b[0m\u001b[1;31m:\u001b[0m invalid syntax\n"
     ]
    }
   ],
   "source": [
    "#experiment = mlflow.create_experiment(name = \"LinearRegression_Pipeline\")\n",
    "# If the experement exist\n",
    "experiment = mlflow.get_experiment_by_name(\"LinearRegression_Pipeline\")\n",
    "#experiment_id = experiment.experiment_id\n",
    "#experiment = mlflow.set_experiment(\"LinearRegression_Pipeline\")"
   ]
  },
  {
   "cell_type": "code",
   "execution_count": null,
   "id": "c11e870c-ef17-4332-9256-74272b356113",
   "metadata": {},
   "outputs": [],
   "source": [
    "run_name=\"LinerRegression_PL_06\"\n",
    "description = \"\"\"\n",
    "### LinerRegression Run\n",
    "Changes and adaptations:\n",
    "- use OneCodeEncoder for the frature __VIN(1-10)__\n",
    "[See the changes in GitHub](https://github.com/ninovvas/End-to-End-ML-Project-Electric-Vehicle/commit/66063ed67d73ee2f02293d3ee52575f220886292).\n",
    "    \"\"\"\n",
    "\n",
    "run = mlflow.start_run(experiment_id = experiment.experiment_id, run_name=run_name, description=description)"
   ]
  },
  {
   "cell_type": "markdown",
   "id": "d9727d33-2578-4a52-876c-23876741bc9d",
   "metadata": {},
   "source": [
    "## Step 1: Loading The Dataset"
   ]
  },
  {
   "cell_type": "code",
   "execution_count": null,
   "id": "a7cceba8-9b83-40cf-a2b0-ea15a01b1631",
   "metadata": {},
   "outputs": [],
   "source": [
    "# Load the data set\n",
    "electric_vehicles = pd.read_csv(\"data/Electric_Vehicle_Population_Data.csv\")"
   ]
  },
  {
   "cell_type": "markdown",
   "id": "bc113d94-7894-4bb3-a7c7-3fa16f177d1f",
   "metadata": {},
   "source": [
    "# Data Preprocessing"
   ]
  },
  {
   "cell_type": "markdown",
   "id": "26549b67-80cd-4415-9a35-acc73fe6f12f",
   "metadata": {},
   "source": [
    "The data set contains 17 colums \n",
    "- VIN (1-10)\n",
    "- County \t\n",
    "- ..."
   ]
  },
  {
   "cell_type": "code",
   "execution_count": null,
   "id": "2e31c9e7-9a59-4c14-a538-40b9a102f78f",
   "metadata": {},
   "outputs": [],
   "source": [
    "electric_vehicles"
   ]
  },
  {
   "cell_type": "markdown",
   "id": "c8a415d2-f51b-4f64-9732-2d84d0c5c41e",
   "metadata": {},
   "source": [
    "Check the data type of each column. Which column is has the data type object and which has the data type of number (float64 and int64)"
   ]
  },
  {
   "cell_type": "code",
   "execution_count": null,
   "id": "4a3b7d5f-170f-4cb4-bf67-0646b784d73f",
   "metadata": {},
   "outputs": [],
   "source": [
    "electric_vehicles.info()"
   ]
  },
  {
   "cell_type": "code",
   "execution_count": null,
   "id": "420fbd27-25ee-4b45-8e92-8d3f9aee00bf",
   "metadata": {},
   "outputs": [],
   "source": [
    "#Check for each column if null/None/NaN is existing \n",
    "null_counts = electric_vehicles.isnull().sum()\n",
    "null_counts"
   ]
  },
  {
   "cell_type": "markdown",
   "id": "574f2dcf-cff9-49d6-b2a8-8ab5990d5b23",
   "metadata": {},
   "source": [
    "As we can see in some of the colums NaN are existing. The NaN will be manage for each Column separately. \n",
    "The easier way be not eliminate for the complete data set all rows which contains NaN. It is beeter first to analyse each column with NaN values before to drop all NaN values\n",
    "with the function __dropna()__\n",
    "We can assume that the columns _County_, _City_ and _Postal Code_ have NaN in the same rows, because of the dependancies between _Country_, _City_ and _Postal Code_ "
   ]
  },
  {
   "cell_type": "markdown",
   "id": "5e99edc5-9892-4c1f-8946-26d96fe10952",
   "metadata": {},
   "source": [
    "# Feature Engineering"
   ]
  },
  {
   "cell_type": "markdown",
   "id": "851ada30-bf3a-4b5e-ad1f-33c8209ba6a5",
   "metadata": {},
   "source": [
    "## Definition of all global functions\n",
    "TODO Morve to sepaaret file"
   ]
  },
  {
   "cell_type": "code",
   "execution_count": null,
   "id": "53f273ac-0e9d-4cc4-afa8-24dd6fe9561d",
   "metadata": {},
   "outputs": [],
   "source": [
    "def add_priority_numbers(df, column_name):\n",
    "    column_counts = df[column_name].value_counts()\n",
    "    total_number_of_unique = len(column_counts)\n",
    "    priority_numbers = {value: total_number_of_unique - rank + 1 for rank, value in enumerate(column_counts.index, start=1)}\n",
    "    df[column_name + '_priority'] = df[column_name].map(priority_numbers)\n",
    "    return df\n",
    "\n",
    "def fill_in_colum_with_unknown(df, column_name):\n",
    "    column_values = df[column_name].fillna('Unknown')\n",
    "    df[column_name] = column_values\n",
    "    return  df\n",
    "\n",
    "def fill_in_colum_with_postal_code_unknown(df):\n",
    "    column_values = df['Postal Code'].fillna('00000.0')\n",
    "    df['Postal Code'] = column_values\n",
    "    return  df\n",
    "\n",
    "def execute_one_hod_encoder(df, column_name):\n",
    "    ohe_make = OneHotEncoder()\n",
    "    encoded_cafv = ohe_make.fit_transform(df[column_name].values.reshape(-1, 1)).toarray()\n",
    "    ohe_df = pd.DataFrame(encoded_cafv, columns=ohe_make.get_feature_names_out())\n",
    "    df = pd.concat([df, ohe_df], axis=1)\n",
    "    return df"
   ]
  },
  {
   "cell_type": "markdown",
   "id": "d1312d03-910a-4d6f-b40a-7cdedafd656f",
   "metadata": {},
   "source": [
    "## Feature - VIN (1-10)"
   ]
  },
  {
   "cell_type": "markdown",
   "id": "a461cea6-6f1d-492a-9bc1-99fb3fef42cf",
   "metadata": {},
   "source": [
    "Check the unique values of the feature __VIN (1-10)__"
   ]
  },
  {
   "cell_type": "code",
   "execution_count": null,
   "id": "5984fa11-ab13-45fb-a948-e347e52afe42",
   "metadata": {},
   "outputs": [],
   "source": [
    "len(electric_vehicles['VIN (1-10)'].unique())"
   ]
  },
  {
   "cell_type": "code",
   "execution_count": null,
   "id": "5ad262ca-2cce-4a43-a35e-2c25d476022f",
   "metadata": {},
   "outputs": [],
   "source": [
    "If you can see we have 9058 unique values. Using using One-Hot Encoding can lead to a high-dimensional and sparse representation, \n",
    "which may pose challenges in terms of computational efficiency and memory usage."
   ]
  },
  {
   "cell_type": "code",
   "execution_count": null,
   "id": "fc8a481a-2b8c-4fdd-9e9d-75bc111d2600",
   "metadata": {},
   "outputs": [],
   "source": [
    "electric_vehicles['VIN (1-10)'].value_counts()"
   ]
  },
  {
   "cell_type": "markdown",
   "id": "770d2bcd-14ac-44ef-9005-334fdcc47600",
   "metadata": {},
   "source": [
    "Create a Pipeline for the feature __VIN (1 -10)__"
   ]
  },
  {
   "cell_type": "code",
   "execution_count": null,
   "id": "fe4723c8-4036-4e0d-999b-5f189f3e052e",
   "metadata": {},
   "outputs": [],
   "source": [
    "vin_pipeline = Pipeline(steps = [\n",
    "    ('ohn_vin', FunctionTransformer(func= execute_one_hod_encoder, kw_args={'column_name':'VIN (1 -10)'})),\n",
    "])"
   ]
  },
  {
   "cell_type": "code",
   "execution_count": null,
   "id": "c185307c-9252-47cf-8c13-fd645bf9bfce",
   "metadata": {},
   "outputs": [],
   "source": [
    "electric_vehicles = vin_pipeline.fit_transform(electric_vehicles)"
   ]
  },
  {
   "cell_type": "code",
   "execution_count": null,
   "id": "4814e037-268f-4f63-beb8-38ef451db16a",
   "metadata": {},
   "outputs": [],
   "source": [
    "electric_vehicles.shape()"
   ]
  },
  {
   "cell_type": "markdown",
   "id": "6c4af81c-0ab7-476c-8630-f832ad35dfe2",
   "metadata": {},
   "source": [
    "## Features - County, City and State"
   ]
  },
  {
   "cell_type": "markdown",
   "id": "9849b322-0245-4734-89b9-618d8fbac3da",
   "metadata": {},
   "source": [
    "Let us look at the column __Country__.\n",
    "First we should check  the unique values of  the column 'Country' and to print the table (rows) only with the NaN values to see which information will be lost if we drop this rows."
   ]
  },
  {
   "cell_type": "code",
   "execution_count": null,
   "id": "78ef9c5e-cd41-4cc9-a996-87166ab61c31",
   "metadata": {},
   "outputs": [],
   "source": [
    "electric_vehicles['County'].isnull().sum()"
   ]
  },
  {
   "cell_type": "code",
   "execution_count": null,
   "id": "d04a9f68-1487-4e18-ac6d-998b4da090b9",
   "metadata": {},
   "outputs": [],
   "source": [
    "countries_null_rows = electric_vehicles[electric_vehicles['County'].isna()]\n",
    "countries_null_rows"
   ]
  },
  {
   "cell_type": "code",
   "execution_count": null,
   "id": "9fb3601c-b645-479e-b4ef-73249515ab3d",
   "metadata": {},
   "outputs": [],
   "source": [
    "#electric_vehicles['County'] = electric_vehicles['County'].fillna('Unknown')"
   ]
  },
  {
   "cell_type": "code",
   "execution_count": null,
   "id": "47fb6f73-db23-4044-a2c8-aef2ed5ca693",
   "metadata": {},
   "outputs": [],
   "source": [
    "electric_vehicles['County'].isnull().sum()"
   ]
  },
  {
   "cell_type": "code",
   "execution_count": null,
   "id": "33575421-3b6d-4311-b598-defcf5c77dc7",
   "metadata": {},
   "outputs": [],
   "source": [
    "electric_vehicles['County'].unique()"
   ]
  },
  {
   "cell_type": "code",
   "execution_count": null,
   "id": "5d018779-ef03-430d-a61c-0bbf13e70ee8",
   "metadata": {},
   "outputs": [],
   "source": [
    "electric_vehicles['County'].value_counts()"
   ]
  },
  {
   "cell_type": "markdown",
   "id": "c5343ed0-01b0-455e-9673-02c07020aa25",
   "metadata": {},
   "source": [
    "If we can see there are 170 countries. Now is the question, how we can transform the countries to a number as categories? If we use the __LabelEncoder__ provided by the sklearn library, so\n",
    "all countries will be assign to unique numerical label in the feature. The problem is that __LabelEncoder__ is appropriate when there is an ordinal relationship between the categories (i.e., one category is greater than or less than another). In our case this can be a problem for some of the machine algorithms, because using __LabelEncoder__ might introduce unintended relationships in the model. \n",
    "Another option is to use __OneHotEncoder__. OneHotEncoder is used to convert categorical integer features into one-hot encoded vectors. Each integer value is represented as a binary vector where all values are zero except the index that is marked with a 1. In our case we will inscrease the features with additiolan 170 features. This can be a problem, because of the heigh varians by the learning the model.\n",
    "So this two solutions maybe are not the correct solution for the column __Country__. So what we want to acheaved? Mainly we want to present the rank of each country base on the saled vehicles in this country. This will be provide us the posibility to clarify how importent is each country and to set the priority of each country."
   ]
  },
  {
   "cell_type": "code",
   "execution_count": null,
   "id": "0cb01134-ac99-4315-80a8-9cdeab8fb203",
   "metadata": {},
   "outputs": [],
   "source": [
    "#def add_priority_numbers(df, column_name):\n",
    "#    column_counts = df[column_name].value_counts()\n",
    "#    total_number_of_unique = len(column_counts)\n",
    "#    priority_numbers = {value: total_number_of_unique - rank + 1 for rank, value in enumerate(column_counts.index, start=1)}\n",
    "#    df[column_name + '_priority'] = df[column_name].map(priority_numbers)\n",
    "#    return df\n",
    "\n",
    "\n",
    "#def fill_in_colum_with_unknown(df, column_name):\n",
    "#    column_values = df[column_name].fillna('Unknown')\n",
    "#    df[column_name] = column_values\n",
    "#    return  df\n"
   ]
  },
  {
   "cell_type": "code",
   "execution_count": null,
   "id": "f03e9f2a-2928-465b-b8ae-31062ba4329e",
   "metadata": {},
   "outputs": [],
   "source": [
    "country_pipeline = Pipeline(steps = [\n",
    "    ('fill_na', FunctionTransformer(func= fill_in_colum_with_unknown, kw_args={'column_name': 'County'})),\n",
    "    ('add_priority_numbers', FunctionTransformer(func= add_priority_numbers, kw_args={'column_name':'County'})),\n",
    "    #('create_matrix', FunctionTransformer(func= lambda x: x.todence()))\n",
    "])"
   ]
  },
  {
   "cell_type": "code",
   "execution_count": null,
   "id": "38d832cd-da59-4ab9-aaa5-7a7078ac9ef5",
   "metadata": {},
   "outputs": [],
   "source": [
    "#country_pipeline.fit_transform(electric_vehicles)"
   ]
  },
  {
   "cell_type": "code",
   "execution_count": null,
   "id": "df4ca3df-f498-4b12-85cd-c018b019df81",
   "metadata": {},
   "outputs": [],
   "source": [
    "electric_vehicles['County'].isnull().sum()"
   ]
  },
  {
   "cell_type": "code",
   "execution_count": null,
   "id": "94209648-bd81-4ca5-aee2-3ce92cc75a31",
   "metadata": {},
   "outputs": [],
   "source": [
    "city_pipeline = Pipeline(steps = [\n",
    "    ('fill_na', FunctionTransformer(func= fill_in_colum_with_unknown, kw_args={'column_name': 'City'})),\n",
    "    ('add_priority_numbers', FunctionTransformer(func= add_priority_numbers, kw_args={'column_name':'City'})),\n",
    "])"
   ]
  },
  {
   "cell_type": "code",
   "execution_count": null,
   "id": "00ff6416-e24e-429c-ba81-8e953528ba2e",
   "metadata": {},
   "outputs": [],
   "source": [
    "state_pipeline = Pipeline(steps = [\n",
    "    ('add_priority_numbers', FunctionTransformer(func= add_priority_numbers, kw_args={'column_name':'State'})),\n",
    "])"
   ]
  },
  {
   "cell_type": "markdown",
   "id": "848685e6-b52d-4154-81fd-a17b0266b395",
   "metadata": {},
   "source": [
    "## Feature - Postal Code"
   ]
  },
  {
   "cell_type": "code",
   "execution_count": null,
   "id": "f096cc73-6d34-4992-8ab9-667b512f2812",
   "metadata": {},
   "outputs": [],
   "source": [
    "#def fill_in_colum_with_postal_code_unknown(df):\n",
    "#    column_values = df['Postal Code'].fillna('00000.0')\n",
    "#    df['Postal Code'] = column_values\n",
    "#    return  df"
   ]
  },
  {
   "cell_type": "code",
   "execution_count": null,
   "id": "65accb35-fda4-4a13-ab5a-c6e79c7d4997",
   "metadata": {},
   "outputs": [],
   "source": [
    "postal_code_pipeline = Pipeline(steps = [\n",
    "    ('fill_na', FunctionTransformer(func= fill_in_colum_with_postal_code_unknown)),\n",
    "])"
   ]
  },
  {
   "cell_type": "markdown",
   "id": "0499a432-8890-41f9-845d-60f08557b660",
   "metadata": {},
   "source": [
    "## Feature - Make \t"
   ]
  },
  {
   "cell_type": "code",
   "execution_count": null,
   "id": "58ca99df-cf74-464c-bf08-1ae9da0e7a67",
   "metadata": {},
   "outputs": [],
   "source": [
    "electric_vehicles.Make.unique()"
   ]
  },
  {
   "cell_type": "code",
   "execution_count": null,
   "id": "bee380b4-fbcc-4c97-b4f6-c45c9528b1f2",
   "metadata": {},
   "outputs": [],
   "source": [
    "len(electric_vehicles.Make.unique())"
   ]
  },
  {
   "cell_type": "code",
   "execution_count": null,
   "id": "32ac79c0-e03c-47b1-9a4f-d2a6ad3b88a1",
   "metadata": {},
   "outputs": [],
   "source": [
    "electric_vehicles.Make.isnull().sum()"
   ]
  },
  {
   "cell_type": "code",
   "execution_count": null,
   "id": "bf537b3d-f286-451f-874a-0de53ac515af",
   "metadata": {},
   "outputs": [],
   "source": [
    "#def execute_one_hod_encoder(df, column_name):\n",
    "#    ohe_make = OneHotEncoder()\n",
    "#    encoded_cafv = ohe_make.fit_transform(df[column_name].values.reshape(-1, 1)).toarray()\n",
    "#    ohe_df = pd.DataFrame(encoded_cafv, columns=ohe_make.get_feature_names_out())\n",
    "#    df = pd.concat([df, ohe_df], axis=1)\n",
    "#    return df\n",
    "\n",
    "    "
   ]
  },
  {
   "cell_type": "code",
   "execution_count": null,
   "id": "d34e5f31-ec43-4b00-8dc7-94c1b24567b4",
   "metadata": {},
   "outputs": [],
   "source": [
    "make_pipeline = Pipeline(steps = [\n",
    "    ('ohn_make', FunctionTransformer(func= execute_one_hod_encoder, kw_args={'column_name':'Make'})),\n",
    "])\n",
    "\n",
    "#make_pipeline_ct = ColumnTransformer([\n",
    "    #('ohe_make', OneHotEncoder(), ['Make']),\n",
    "#    ('ohn_make', FunctionTransformer(func= execute_one_hod_encoder, kw_args={'column_name':'Make'}), ['Make']),\n",
    "    \n",
    "#])"
   ]
  },
  {
   "cell_type": "code",
   "execution_count": null,
   "id": "9cf48e3a-344e-4d5f-ac8a-5f75ab0cb18c",
   "metadata": {},
   "outputs": [],
   "source": [
    "electric_vehicles = make_pipeline.fit_transform(electric_vehicles)"
   ]
  },
  {
   "cell_type": "markdown",
   "id": "cce4369c-042b-48ca-9958-51f4a26fe9ad",
   "metadata": {},
   "source": [
    "Check if the number of the columns is increase with the number of the makes (36 unique makes)"
   ]
  },
  {
   "cell_type": "code",
   "execution_count": null,
   "id": "c02b3531-96a2-4a3e-835b-20b5ac41179f",
   "metadata": {},
   "outputs": [],
   "source": [
    "electric_vehicles.shape"
   ]
  },
  {
   "cell_type": "markdown",
   "id": "0f8c7540-887a-47c7-aaf3-27161bba7714",
   "metadata": {},
   "source": [
    "## Feature - Clean Alternative Fuel Vehicle (CAFV) Eligibility"
   ]
  },
  {
   "cell_type": "code",
   "execution_count": null,
   "id": "801271c7-5422-4f69-b2fe-86258ab11e8f",
   "metadata": {},
   "outputs": [],
   "source": [
    "electric_vehicles['Clean Alternative Fuel Vehicle (CAFV) Eligibility'].unique()"
   ]
  },
  {
   "cell_type": "code",
   "execution_count": null,
   "id": "00fb81e3-65af-4775-86b6-93bfb12397ba",
   "metadata": {},
   "outputs": [],
   "source": [
    "cafv_pipeline = Pipeline(steps = [\n",
    "    ('ohn_cafv', FunctionTransformer(func= execute_one_hod_encoder, kw_args={'column_name':'Clean Alternative Fuel Vehicle (CAFV) Eligibility'})),\n",
    "])"
   ]
  },
  {
   "cell_type": "code",
   "execution_count": null,
   "id": "d450f45e-24ad-48d2-ba78-06459332c843",
   "metadata": {},
   "outputs": [],
   "source": [
    "electric_vehicles = cafv_pipeline.fit_transform(electric_vehicles)"
   ]
  },
  {
   "cell_type": "code",
   "execution_count": null,
   "id": "79e9bdce-9a16-4610-bb5b-30a163147dec",
   "metadata": {},
   "outputs": [],
   "source": [
    "electric_vehicles.shape"
   ]
  },
  {
   "cell_type": "markdown",
   "id": "ea73eb60-d5d0-402e-8317-12c2b90bae52",
   "metadata": {},
   "source": [
    "## Feature Model"
   ]
  },
  {
   "cell_type": "markdown",
   "id": "d5cd91e7-410c-477f-a2ee-51db63bca187",
   "metadata": {},
   "source": [
    "In the column __Model__ are listest the models of makes. First we have to analyse if the column __Model__ contains NaN values"
   ]
  },
  {
   "cell_type": "code",
   "execution_count": null,
   "id": "f127c057-135f-4256-9cc5-8f36a35ea7fd",
   "metadata": {},
   "outputs": [],
   "source": [
    "electric_vehicles.Model.isnull().sum()"
   ]
  },
  {
   "cell_type": "markdown",
   "id": "d30fc930-f179-4633-ba9d-a88872d949a0",
   "metadata": {},
   "source": [
    "There are 249 rows with the the value NaN in the column __Model__. Now we have to check for each make (column __Make__) the model is missing."
   ]
  },
  {
   "cell_type": "code",
   "execution_count": null,
   "id": "84d7b27a-d27b-45e2-847b-e9f3112d17e5",
   "metadata": {},
   "outputs": [],
   "source": [
    "electric_vehicles_make_with_NaN = electric_vehicles[electric_vehicles['Model'].isna()]"
   ]
  },
  {
   "cell_type": "code",
   "execution_count": null,
   "id": "de7e0161-86c4-4d1d-bd6e-f1583d8832c8",
   "metadata": {},
   "outputs": [],
   "source": [
    "plt.hist(electric_vehicles_make_with_NaN['Make'], bins=20)\n",
    "plt.xlabel('Make')\n",
    "plt.ylabel('Number of NaN')\n",
    "plt.title('Distribution of Electric Range')\n",
    "plt.show()"
   ]
  },
  {
   "cell_type": "markdown",
   "id": "b8fd00ca-7f70-40ec-952e-1a665e437d12",
   "metadata": {},
   "source": [
    "If we can see the missing models are only from one __Make__ _Volvo_. We can delete this 240 rows, but we will lost information. So for the first loop the NaN will be replace with the value __Unknown__"
   ]
  },
  {
   "cell_type": "markdown",
   "id": "464a3117-dcb1-41e2-a963-58634a5e6904",
   "metadata": {},
   "source": [
    "The next step is to anylyse how we can catagorize the unique values of the __Models__ to numbers, that the machine leanring algorithmus can understand correctly."
   ]
  },
  {
   "cell_type": "code",
   "execution_count": null,
   "id": "46636338-f568-430e-91fd-8926b7d6a2c5",
   "metadata": {},
   "outputs": [],
   "source": [
    "len(electric_vehicles.Model.unique())"
   ]
  },
  {
   "cell_type": "markdown",
   "id": "9ca30c34-6119-4d4a-9954-588e2dd5995b",
   "metadata": {},
   "source": [
    "Now the question is which technic we can use fot the categorarization:\n",
    "- OneHotEncoder - in this case we will create additional 126 colums. Later if needed we can reduce the number of the columns using another algorithmns and strategy to get better results.\n",
    "- LabelEncoder - LabelEncoder could imply an ordinal relationship between the __Models__, which might not be accurate\n",
    "- Set the Priority like the solution for __Country__, __City__ and __State__ - More as one model can have the same priority.\n",
    "- another solution\n",
    "\n",
    "First we will try with __OneHotEncoder__, because of the probems of the another solutions, that can be follow the missunderstanding the data by the learning process."
   ]
  },
  {
   "cell_type": "code",
   "execution_count": null,
   "id": "d1bddaf4-29ed-4670-854f-0b2e8a211a41",
   "metadata": {},
   "outputs": [],
   "source": [
    "electric_vehicles.Model.value_counts()"
   ]
  },
  {
   "cell_type": "markdown",
   "id": "24188862-9df5-4f22-a8aa-11d9b7c72fab",
   "metadata": {},
   "source": [
    "Create a pipeline for the frature __Model__"
   ]
  },
  {
   "cell_type": "code",
   "execution_count": null,
   "id": "4a326bae-b245-401d-b05c-6aacbeefed80",
   "metadata": {},
   "outputs": [],
   "source": [
    "model_pipeline = Pipeline(steps = [\n",
    "    ('fill_na', FunctionTransformer(func= fill_in_colum_with_unknown, kw_args={'column_name': 'Model'})),\n",
    "    ('ohn_model', FunctionTransformer(func= execute_one_hod_encoder, kw_args={'column_name':'Model'})),\n",
    "])"
   ]
  },
  {
   "cell_type": "code",
   "execution_count": null,
   "id": "c5b07c1e-bf9b-4ff4-9a0d-88e7006ad53f",
   "metadata": {},
   "outputs": [],
   "source": [
    "electric_vehicles = model_pipeline.fit_transform(electric_vehicles)"
   ]
  },
  {
   "cell_type": "code",
   "execution_count": null,
   "id": "b1ddee1c-7319-425f-b070-09c138c49dcc",
   "metadata": {},
   "outputs": [],
   "source": [
    "electric_vehicles.shape"
   ]
  },
  {
   "cell_type": "markdown",
   "id": "8917e40c-4415-430b-a345-3a6bcdd15a2e",
   "metadata": {},
   "source": [
    "## Feature - Electric Vehicle Type"
   ]
  },
  {
   "cell_type": "code",
   "execution_count": null,
   "id": "5fa9d92a-3b74-4df6-8aa0-e0df3a8bf08f",
   "metadata": {},
   "outputs": [],
   "source": [
    "electric_vehicles['Electric Vehicle Type'].unique()"
   ]
  },
  {
   "cell_type": "code",
   "execution_count": null,
   "id": "c4e0dcd3-45aa-497d-9a66-77ce6468804e",
   "metadata": {},
   "outputs": [],
   "source": [
    "electric_vehicle_type_pipeline = Pipeline(steps = [\n",
    "    ('ohn_electric_vehicle_type', FunctionTransformer(func= execute_one_hod_encoder, kw_args={'column_name':'Electric Vehicle Type'})),\n",
    "])"
   ]
  },
  {
   "cell_type": "code",
   "execution_count": null,
   "id": "ed1ad790-e5f6-4498-a7de-b00fb646c15e",
   "metadata": {},
   "outputs": [],
   "source": [
    "electric_vehicles = electric_vehicle_type_pipeline.fit_transform(electric_vehicles)"
   ]
  },
  {
   "cell_type": "code",
   "execution_count": null,
   "id": "52dceb53-2532-499b-b6ed-384ec2cfa368",
   "metadata": {},
   "outputs": [],
   "source": [
    "electric_vehicles.shape"
   ]
  },
  {
   "cell_type": "markdown",
   "id": "56a7a176-9900-4628-8ae4-3a022c316021",
   "metadata": {},
   "source": [
    "## Feature - Electric Utility"
   ]
  },
  {
   "cell_type": "markdown",
   "id": "33bb2cca-618d-4281-b51e-c51ea51f2203",
   "metadata": {},
   "source": [
    "Is this feature relevant? Here we need to do text spliting"
   ]
  },
  {
   "cell_type": "code",
   "execution_count": null,
   "id": "d7f2dc9c-edfa-459b-a3ef-dcd75be92e98",
   "metadata": {},
   "outputs": [],
   "source": [
    "electric_vehicles['Electric Utility'].unique()"
   ]
  },
  {
   "cell_type": "code",
   "execution_count": null,
   "id": "5be2a3db-e50f-49b6-bbba-c40047ace8e9",
   "metadata": {},
   "outputs": [],
   "source": [
    "electric_vehicles['Electric Utility'].value_counts()"
   ]
  },
  {
   "cell_type": "code",
   "execution_count": null,
   "id": "105eb388-696c-4d8b-a5ec-d1bec6b2984d",
   "metadata": {},
   "outputs": [],
   "source": [
    "electric_vehicles['Electric Utility'].isnull().sum()"
   ]
  },
  {
   "cell_type": "markdown",
   "id": "7bff9016-78c7-4b49-961f-7c71abdbd622",
   "metadata": {},
   "source": [
    "## Feature - Vehicle Location"
   ]
  },
  {
   "cell_type": "code",
   "execution_count": null,
   "id": "09e886b8-82d8-420c-988f-e17e19ef0df1",
   "metadata": {},
   "outputs": [],
   "source": [
    "electric_vehicles[electric_vehicles['Vehicle Location'].isnull()]"
   ]
  },
  {
   "cell_type": "markdown",
   "id": "4ff666b5-369e-47ab-9fda-548fb92411eb",
   "metadata": {},
   "source": [
    "For 8 of the vehicle location can not be find out the correct location, becase the __county__, __city__ and __state__ are missing. \n",
    "There are two options \n",
    "- to drop the rows or\n",
    "- to define a __Unknow__ state for points: __POINT (000.00000000000000 00.00000000000000)__\n",
    "\n",
    "Option two will be use , becasue of the strategy following until now to replace NaN with __Unkonow__ values dependace of the format."
   ]
  },
  {
   "cell_type": "code",
   "execution_count": null,
   "id": "2439dde5-0abe-4b3b-822d-ff4fd7f52382",
   "metadata": {},
   "outputs": [],
   "source": [
    "\n",
    "# Extract the latitude and longitude from the 'Vehicle Location' column\n",
    "def extract_coordinates(x, index):\n",
    "    coords = re.findall(r'-?\\d+\\.\\d+', x)\n",
    "    if len(coords) >= 2:\n",
    "        return float(coords[index])\n",
    "    else:\n",
    "        return None\n",
    "\n",
    "# unpack the coordinates \n",
    "def unpack_coordinates(df):\n",
    "    # Convert the 'Vehicle Location' column to string type\n",
    "    df['Vehicle Location'] = df['Vehicle Location'].astype(str)\n",
    "    df['Longitude'] = df['Vehicle Location'].apply(lambda x: extract_coordinates(x, 0))\n",
    "    df['Latitude'] = df['Vehicle Location'].apply(lambda x: extract_coordinates(x, 0))\n",
    "    return df\n",
    "\n",
    "\n",
    "#df = df.dropna(subset=['latitude', 'longitude'])\n",
    "\n",
    "\n",
    "def fill_in_colum_with_point_unknown(df):\n",
    "    column_values = df['Vehicle Location'].fillna('POINT (000.00000000000000 00.00000000000000)')\n",
    "    df['Vehicle Location'] = column_values\n",
    "    return  df\n",
    "    \n",
    "#electric_vehicles['Longitude'] = electric_vehicles['Vehicle Location'].apply(func=lambda x: x.x)\n",
    "#electric_vehicles['Latitude'] = electric_vehicles['Vehicle Location'].apply(func=lambda x: x.y)"
   ]
  },
  {
   "cell_type": "markdown",
   "id": "2da58aa2-7d61-49b9-9ddf-7d220b799c7f",
   "metadata": {},
   "source": [
    "Create a Pipeline for the feature __Vehicle Location__"
   ]
  },
  {
   "cell_type": "code",
   "execution_count": null,
   "id": "245a1804-3df6-46d7-bd73-752b17cfe35a",
   "metadata": {},
   "outputs": [],
   "source": [
    "vehicle_location_feature_pipeline = Pipeline(steps = [\n",
    "    ('fill_in_with_point_unknown', FunctionTransformer(func= fill_in_colum_with_point_unknown)),\n",
    "    ('unpack_vehicle_location', FunctionTransformer(func= unpack_coordinates))\n",
    "])"
   ]
  },
  {
   "cell_type": "markdown",
   "id": "0899229d-817f-4826-95e6-d2f71e2fed25",
   "metadata": {},
   "source": [
    "Add to the feture Pipeline"
   ]
  },
  {
   "cell_type": "markdown",
   "id": "59015816-e5d1-41e0-8ec0-3e0fe1afcc9b",
   "metadata": {},
   "source": [
    "## Feature - Base MSRP"
   ]
  },
  {
   "cell_type": "markdown",
   "id": "c0eddcb1-67a4-4b7d-88d2-6782f323372f",
   "metadata": {},
   "source": [
    "The coulumn __Base MSRP__ contanins more as 95% of zeror or 95% of the information about the price is missing. "
   ]
  },
  {
   "cell_type": "code",
   "execution_count": null,
   "id": "bc772f52-a44a-47a6-872a-ca50cf754055",
   "metadata": {},
   "outputs": [],
   "source": [
    "electric_vehicles['Base MSRP'].value_counts()"
   ]
  },
  {
   "cell_type": "code",
   "execution_count": null,
   "id": "3c5a05f3-f3b8-42a2-99dc-6c3562ee94c8",
   "metadata": {},
   "outputs": [],
   "source": [
    "electric_vehicles['Base MSRP'].isnull().sum()"
   ]
  },
  {
   "cell_type": "markdown",
   "id": "162dccbf-5fc1-43de-9198-66a20f23bb27",
   "metadata": {},
   "source": [
    "Replace the NaN with zero"
   ]
  },
  {
   "cell_type": "code",
   "execution_count": null,
   "id": "fbab5b4f-a66b-4486-b008-107ecb9c7c3c",
   "metadata": {},
   "outputs": [],
   "source": [
    "def fill_in_colum_with_zero(df, column_name, to_fill_value):\n",
    "    column_values = df[column_name].fillna(to_fill_value)\n",
    "    df[column_name] = column_values\n",
    "    return  df"
   ]
  },
  {
   "cell_type": "code",
   "execution_count": null,
   "id": "c5d291f1-e571-405d-938c-cf5224bb4292",
   "metadata": {},
   "outputs": [],
   "source": [
    "electric_vehicles[electric_vehicles['Base MSRP'].isnull()]"
   ]
  },
  {
   "cell_type": "code",
   "execution_count": null,
   "id": "6f7f8b49-e3be-46a9-a798-5adb86e287a9",
   "metadata": {},
   "outputs": [],
   "source": [
    "def create_price_range_category(df, column='Base MSRP'):\n",
    "    def categorize_price(price):\n",
    "        if 0 <= price <= 25000 :\n",
    "            return 0\n",
    "        elif 25000 < price <= 40000:\n",
    "            return 1\n",
    "        elif 40000 < price <= 60000:\n",
    "            return 2\n",
    "        else:\n",
    "            return 3\n",
    "\n",
    "    df['Price_Range_Category'] = df[column].apply(categorize_price)\n",
    "    return df"
   ]
  },
  {
   "cell_type": "markdown",
   "id": "d944b0f1-f3e3-4536-b967-1bc869833958",
   "metadata": {},
   "source": [
    "Create a Pipeline for the feature __Base MSRP__"
   ]
  },
  {
   "cell_type": "code",
   "execution_count": null,
   "id": "f9a2ea8d-b2ad-46ff-8a05-56cf04173dcd",
   "metadata": {},
   "outputs": [],
   "source": [
    "base_msrp_feature_pipeline = Pipeline(steps = [\n",
    "    ('fill_in_with_zero', FunctionTransformer(func = fill_in_colum_with_zero, kw_args={'column_name':'Base MSRP', 'to_fill_value': 0})),\n",
    "    ('create_price_range_category', FunctionTransformer(func= create_price_range_category))\n",
    "])"
   ]
  },
  {
   "cell_type": "markdown",
   "id": "612b45e2-1a21-4592-8409-2b4b69807d50",
   "metadata": {},
   "source": [
    "## Feature - Legislative District"
   ]
  },
  {
   "cell_type": "code",
   "execution_count": null,
   "id": "9ec2606f-7c07-43e9-aef2-7fdbca2a8a6c",
   "metadata": {},
   "outputs": [],
   "source": [
    "electric_vehicles['Legislative District'].isnull().sum()"
   ]
  },
  {
   "cell_type": "code",
   "execution_count": null,
   "id": "5a40ee7f-8ab9-40b4-bf8f-05e90cc2cafc",
   "metadata": {},
   "outputs": [],
   "source": [
    "electric_vehicles['Legislative District'].value_counts()"
   ]
  },
  {
   "cell_type": "markdown",
   "id": "ad4c85de-33bd-4ae7-89e6-ab0cc6777984",
   "metadata": {},
   "source": [
    "Unknown will be set to 0 ,bcause the values if start with 1"
   ]
  },
  {
   "cell_type": "code",
   "execution_count": null,
   "id": "37a238ce-870a-4039-a422-4756839f2720",
   "metadata": {},
   "outputs": [],
   "source": [
    "electric_vehicles['Legislative District'].min()"
   ]
  },
  {
   "cell_type": "code",
   "execution_count": null,
   "id": "16eb0edd-68f0-49f7-b39f-9ec98d9427f4",
   "metadata": {},
   "outputs": [],
   "source": [
    "electric_vehicles['Legislative District'].max()"
   ]
  },
  {
   "cell_type": "markdown",
   "id": "ff8a866e-1873-4642-b64a-7bd0c86bb0fc",
   "metadata": {},
   "source": [
    "Create a pipeline for the column __Legislative District__"
   ]
  },
  {
   "cell_type": "code",
   "execution_count": null,
   "id": "c20c3d0c-5ab5-4855-92f1-5980cbf0c51c",
   "metadata": {},
   "outputs": [],
   "source": [
    "legislative_district_feature_pipeline = Pipeline(steps = [\n",
    "    ('fill_in_with_zero', FunctionTransformer(func = fill_in_colum_with_zero, kw_args={'column_name':'Legislative District', 'to_fill_value': 0})),\n",
    "])"
   ]
  },
  {
   "cell_type": "markdown",
   "id": "179bce89-f676-4f6e-a389-52fd3c6cacda",
   "metadata": {},
   "source": [
    "# Feature - Electric Range"
   ]
  },
  {
   "cell_type": "markdown",
   "id": "8d862196-f6cf-4536-935e-767ebe162c64",
   "metadata": {},
   "source": [
    " First filter only the electirc range with value > 0 for the calculation of the mean value. \n",
    "Calculate the mean value of the electic range in depandance of the Clean Alternative Fuel Vehicle (CAFV) Eligibility \t\n",
    "and the Model. So you can calculate the mean value base of the information if the vehicle is a hybrid or electic an base of the model\n",
    "because each model has different range."
   ]
  },
  {
   "cell_type": "code",
   "execution_count": null,
   "id": "aa33f84a-cd05-4fec-be04-66c216270a3e",
   "metadata": {},
   "outputs": [],
   "source": [
    "#electric_range_without_zero = electric_vehicle_type[\"Electric Range\"].ne(0)\n",
    "#electric_range_without_zero = electric_vehicle_type[electric_vehicle_type[['Electric Range']].ne(0).any(1)]\n",
    "#electric_range_without_zero = electric_vehicle_type[electric_vehicle_type[['Electric Range']].ne(0).any(1)]\n",
    "electric_range_without_zero = electric_vehicles[electric_vehicles['Electric Range'] != 0.0]"
   ]
  },
  {
   "cell_type": "code",
   "execution_count": null,
   "id": "45aba513-d3bb-4443-8991-63dfac3fb595",
   "metadata": {},
   "outputs": [],
   "source": [
    "plt.hist(electric_vehicles['Electric Range'], bins=20)\n",
    "plt.xlabel('Electric Range')\n",
    "plt.ylabel('Frequency')\n",
    "plt.title('Distribution of Electric Range')\n",
    "plt.show()"
   ]
  },
  {
   "cell_type": "code",
   "execution_count": null,
   "id": "7b34e1cb-2570-4249-b745-1343abc5ece5",
   "metadata": {},
   "outputs": [],
   "source": [
    "electric_range_only_zero = electric_vehicles[electric_vehicles['Electric Range'] == 0.0]"
   ]
  },
  {
   "cell_type": "code",
   "execution_count": null,
   "id": "65ade6c0-ee3d-4336-aeba-ff7ba9ad4b79",
   "metadata": {},
   "outputs": [],
   "source": [
    "electric_range_only_zero"
   ]
  },
  {
   "cell_type": "code",
   "execution_count": null,
   "id": "fead7d5c-77fb-4cbd-bc46-971ee8e46864",
   "metadata": {},
   "outputs": [],
   "source": [
    "electric_range_without_zero"
   ]
  },
  {
   "cell_type": "code",
   "execution_count": null,
   "id": "d2abf3c3-711d-49d8-8e1f-58c44a0ca778",
   "metadata": {},
   "outputs": [],
   "source": [
    "#electric_vehicle_type.iloc[:, electric_vehicle_type_index] = electric_vehicle_type[\"Electric Range\"].mask(electric_vehicle_type[\"Electric Range\"].eq(0.0), electric_vehicle_type[\"Electric Range\"].mean())\n",
    "#group_electrical_range = electric_range_without_zero.groupby(['Model','Make', 'Electric Vehicle Type'], as_index=False)['Electric Range'].mean()\n",
    "#group_electrical_range = electric_range_without_zero.groupby(['Electric Vehicle Type', 'Make'], as_index=False)['Electric Range'].mean()\n",
    "group_electrical_range = electric_range_without_zero.groupby(['Electric Vehicle Type', 'Model'], as_index=False)['Electric Range'].mean()"
   ]
  },
  {
   "cell_type": "markdown",
   "id": "6d86cc33-3421-497c-8058-874dbf478fe8",
   "metadata": {},
   "source": [
    "TODO Analyse the results with Model, why is not good to use a Model als groupby"
   ]
  },
  {
   "cell_type": "code",
   "execution_count": null,
   "id": "c89c0937-51c2-48e8-912b-1b6f7e014c9c",
   "metadata": {},
   "outputs": [],
   "source": [
    "group_electrical_range"
   ]
  },
  {
   "cell_type": "code",
   "execution_count": null,
   "id": "a7609c34-364a-4e75-82ee-ab18086a541d",
   "metadata": {},
   "outputs": [],
   "source": [
    "group_electrical_range.Model.unique()"
   ]
  },
  {
   "cell_type": "code",
   "execution_count": null,
   "id": "d13b6b25-e4db-4c48-a987-d95afd8b0529",
   "metadata": {},
   "outputs": [],
   "source": [
    "#group_electrical_range.Make.unique()"
   ]
  },
  {
   "cell_type": "code",
   "execution_count": null,
   "id": "31b4264f-5228-421c-8411-31c45dae801a",
   "metadata": {},
   "outputs": [],
   "source": [
    "#for index, row in group_electrical_range.iterrows():\n",
    "#    electric_vehicles.loc[ electric_vehicles['Electric Range'] > 0.0 and electric_vehicles['Model'] == row['Model'], 'Electric Range'] = row['Electric Range']\n",
    "\n",
    "for index, row in group_electrical_range.iterrows():\n",
    "#    mask = (electric_vehicles['Electric Range'] == 0.0) & (electric_vehicles['Make'] == row['Make'])\n",
    "#    electric_vehicles.loc[mask, 'Electric Range'] = row['Electric Range']\n",
    "   \n",
    "    \n",
    "    mask = (electric_vehicles['Electric Range'] == 0.0) & (electric_vehicles['Model'] == row['Model'])\n",
    "    electric_vehicles.loc[mask, 'Electric Range'] = row['Electric Range']"
   ]
  },
  {
   "cell_type": "code",
   "execution_count": null,
   "id": "89d05c79-6e9d-47a8-9832-1d6d7f68ea75",
   "metadata": {},
   "outputs": [],
   "source": [
    "electric_vehicles"
   ]
  },
  {
   "cell_type": "code",
   "execution_count": null,
   "id": "082aad06-041e-4f4a-a78b-9607b67295fe",
   "metadata": {},
   "outputs": [],
   "source": [
    "\n",
    "def calculate_mean_value(df):\n",
    "    electric_range_without_zero = df[df['Electric Range'] != 0.0]\n",
    "    electric_range_only_zero = df[df['Electric Range'] == 0.0]\n",
    "    group_electrical_range = electric_range_without_zero.groupby(['Electric Vehicle Type', 'Make'], as_index=False)['Electric Range'].mean()\n",
    "\n",
    "    for index, row in group_electrical_range.iterrows():\n",
    "        mask = (df['Electric Range'] == 0.0) & (df['Make'] == row['Make'])\n",
    "        df.loc[mask, 'Electric Range'] = row['Electric Range']\n",
    "        #mask = (electric_vehicles['Electric Range'] == 0.0) & (electric_vehicles['Model'] == row['Model'])\n",
    "        #electric_vehicles.loc[mask, 'Electric Range'] = row['Electric Range']\n",
    "    return df\n",
    "\n"
   ]
  },
  {
   "cell_type": "code",
   "execution_count": null,
   "id": "fbb47446-f07a-45ce-93c9-f1eca38b445c",
   "metadata": {},
   "outputs": [],
   "source": [
    "plt.hist(electric_vehicles['Electric Range'], bins=20)\n",
    "plt.xlabel('Electric Range')\n",
    "plt.ylabel('Frequency')\n",
    "plt.title('Distribution of Electric Range')\n",
    "plt.show()"
   ]
  },
  {
   "cell_type": "markdown",
   "id": "e14b2c5b-b7dd-41a0-bf6e-181702a4f903",
   "metadata": {},
   "source": [
    "Now the number of 0 is reduce from 60.. to XXX. The reason why not all 0s are \n",
    "How to mange the rest of the unkown or zeros values?\n",
    "- Is it possible to find statistic values add there to the set?\n",
    "- Is it possible to use another grpouping to replace the zeris values? "
   ]
  },
  {
   "cell_type": "code",
   "execution_count": null,
   "id": "a01c5cb2-2c0e-4b9d-80ea-7bd15b7fda99",
   "metadata": {},
   "outputs": [],
   "source": [
    "electric_range_only_zero = electric_vehicles[electric_vehicles['Electric Range'] == 0.0]"
   ]
  },
  {
   "cell_type": "code",
   "execution_count": null,
   "id": "f875344b-f2ba-4a09-a9b9-2722f67d41d5",
   "metadata": {},
   "outputs": [],
   "source": [
    "electric_range_only_zero"
   ]
  },
  {
   "cell_type": "code",
   "execution_count": null,
   "id": "5c69ff7e-abbf-4675-aded-97a633562168",
   "metadata": {},
   "outputs": [],
   "source": [
    "electric_range_only_zero['Make'].unique()"
   ]
  },
  {
   "cell_type": "code",
   "execution_count": null,
   "id": "74217f12-b0b2-428b-9419-5fe3e1aad2a5",
   "metadata": {},
   "outputs": [],
   "source": [
    "electric_vehicles['Electric Range'].eq(0)"
   ]
  },
  {
   "cell_type": "code",
   "execution_count": null,
   "id": "6d056796-3fbd-4e17-a57b-ec2eb9b171f4",
   "metadata": {},
   "outputs": [],
   "source": [
    "def plot_value_counts(df, column, top_n=None):\n",
    "    # Get the value counts for the specified column\n",
    "    value_counts = df[column].value_counts()\n",
    "    \n",
    "    if top_n:\n",
    "        value_counts = value_counts.head(top_n)\n",
    "    \n",
    "    # Set up the subplots\n",
    "    fig, axes = plt.subplots(1, 2, figsize=(20, 7))\n",
    "    \n",
    "    # Create the pie chart\n",
    "    value_counts.plot(kind='pie', ax=axes[0], autopct='%.1f%%', startangle=90, colors=sns.color_palette('pastel'))\n",
    "    axes[0].set_ylabel('')\n",
    "    axes[0].set_title(f'Percentage of {column}', fontsize=14)\n",
    "    \n",
    "    # Create the bar chart\n",
    "    sns.barplot(x=value_counts.index, y=value_counts.values, ax=axes[1], palette='pastel')\n",
    "    axes[1].set_title(f'Count of {column}', fontsize=14)\n",
    "    axes[1].set_xlabel(column)\n",
    "    axes[1].set_ylabel('Count')\n",
    "    axes[1].tick_params(axis='x', rotation=30)\n",
    "\n",
    "    for i, v in enumerate(value_counts.values):\n",
    "        axes[1].text(i, v + 0.5, str(v), horizontalalignment='center', fontsize=12)\n",
    "    \n",
    "    # Set the suptitle for the entire figure\n",
    "    fig.suptitle(f'{column} Distribution', fontsize=18, y=1.03)\n",
    "    \n",
    "    # Show the plots\n",
    "    plt.show()"
   ]
  },
  {
   "cell_type": "code",
   "execution_count": null,
   "id": "4810846a-fddd-4ff1-a828-a772b0b05827",
   "metadata": {},
   "outputs": [],
   "source": [
    "plot_value_counts(electric_vehicles, 'Model', top_n=10)"
   ]
  },
  {
   "cell_type": "markdown",
   "id": "3682d3f8-d77f-4b4b-8cdc-799189b04ad6",
   "metadata": {},
   "source": [
    "## Feature Engineering - Electric Range"
   ]
  },
  {
   "cell_type": "code",
   "execution_count": null,
   "id": "4921185d-eaa1-4920-a50b-88c045a3ddcb",
   "metadata": {},
   "outputs": [],
   "source": [
    "# Plug-in Hybrid Electric Vehicle (PHEV) = 1\n",
    "# Battery Electric Vehicle (BEV) = 0\n",
    "PHEV = 'Plug-in Hybrid Electric Vehicle (PHEV)'\n",
    "BEV = 'Battery Electric Vehicle (BEV)'\n",
    "def create_electric_range_category(df, column='Electric Range'):\n",
    "    def categorize_range(columns):\n",
    "        electric_range = columns['Electric Range']\n",
    "        electric_vehicle_type = columns['Electric Vehicle Type']\n",
    "        if electric_range == 0:\n",
    "            return 0\n",
    "        elif 0.0 < electric_range < 50 and electric_vehicle_type == BEV:\n",
    "            return 1 #10 #very Short\n",
    "        elif 50 <= electric_range <= 100 and electric_vehicle_type == BEV:\n",
    "            return 2 #20 #Short\n",
    "        elif 100 < electric_range <= 300 and electric_vehicle_type == BEV:\n",
    "            return 3 #30 #Medium\n",
    "        elif 300 < electric_range <= 550 and electric_vehicle_type == BEV:\n",
    "            return 4 #40 #long\n",
    "        elif 550 < electric_range and electric_vehicle_type == BEV:\n",
    "            return 5 #50 # Extry long\n",
    "        elif electric_range < 10 and electric_vehicle_type == PHEV:\n",
    "            return 1 #very Short\n",
    "        elif 10 <= electric_range <= 50 and electric_vehicle_type == PHEV:\n",
    "            return 2 #Short\n",
    "        elif 50 < electric_range <= 80 and electric_vehicle_type == PHEV:\n",
    "            return 3 #Medium\n",
    "        elif 80 < electric_range <= 160 and electric_vehicle_type == PHEV:\n",
    "            return 4 #long\n",
    "        elif 160 < electric_range and electric_vehicle_type == PHEV:\n",
    "            return 5 # Extry lo\n",
    "        else:\n",
    "            return -1.0\n",
    "\n",
    "    df['Electric_Range_Category'] = df.apply(categorize_range, axis=1)\n",
    "    return df\n"
   ]
  },
  {
   "cell_type": "code",
   "execution_count": null,
   "id": "4f663ef8-c2b4-4744-8896-b8c21687e1a1",
   "metadata": {},
   "outputs": [],
   "source": [
    "#pd.get_dummies(electric_vehicles[[\"Electric Vehicle Type\",\"Electric_Range_Category\"]])"
   ]
  },
  {
   "cell_type": "code",
   "execution_count": null,
   "id": "ca13c00b-65f3-41ff-82f0-6fc18b6eb5a8",
   "metadata": {},
   "outputs": [],
   "source": [
    "#electric_vehicles.dropna(subset=[\"Electric Range\"])\n",
    "electric_vehicles = electric_vehicles[electric_vehicles['Electric Range'].notna()]"
   ]
  },
  {
   "cell_type": "code",
   "execution_count": null,
   "id": "272a2638-05e0-4070-906b-d7b7eea0977c",
   "metadata": {},
   "outputs": [],
   "source": [
    "electric_vehicles['Electric Range'].isna().sum()"
   ]
  },
  {
   "cell_type": "markdown",
   "id": "92c92681-0834-4029-9765-95b2a68544aa",
   "metadata": {},
   "source": [
    "Create a Pipeline for __Electric Range__"
   ]
  },
  {
   "cell_type": "code",
   "execution_count": null,
   "id": "9101fd7c-4a03-4390-92d1-836907359407",
   "metadata": {},
   "outputs": [],
   "source": [
    "electric_range_feature_pipeline = Pipeline(steps = [\n",
    "    ('fill_in_with_zero', FunctionTransformer(func = fill_in_colum_with_zero, kw_args={'column_name':'Electric Range', 'to_fill_value': 0})), \n",
    "     ('calculate_mean_value', FunctionTransformer(func = calculate_mean_value)),\n",
    "    ('electric_range_category', FunctionTransformer(func = create_electric_range_category, kw_args={'column':'Electric Range'})),\n",
    "])"
   ]
  },
  {
   "cell_type": "code",
   "execution_count": null,
   "id": "1b36c456-8085-40a0-853d-4e56e1745190",
   "metadata": {},
   "outputs": [],
   "source": [
    "features_vehicles_pipeline = FeatureUnion([\n",
    "    ('country_feature', country_pipeline),\n",
    "    ('city_feature', city_pipeline),\n",
    "    ('state_feature', state_pipeline), \n",
    "    ('code_pipeline_feature', postal_code_pipeline),\n",
    "    ('vehicle_location_feature', vehicle_location_feature_pipeline),\n",
    "    ('base_msrp_feature', base_msrp_feature_pipeline),\n",
    "    ('legislative_district_feature', legislative_district_feature_pipeline),\n",
    "    ('electric_range_feature', electric_range_feature_pipeline),\n",
    "    \n",
    "])"
   ]
  },
  {
   "cell_type": "code",
   "execution_count": null,
   "id": "33d6aed2-1891-4113-ae7a-45d14fe8e431",
   "metadata": {},
   "outputs": [],
   "source": [
    "features_vehicles_pipeline.fit(electric_vehicles)"
   ]
  },
  {
   "cell_type": "code",
   "execution_count": null,
   "id": "d5b82552-dd2b-48f8-8c7c-62db6a3ff487",
   "metadata": {},
   "outputs": [],
   "source": [
    "features_vehicles_pipeline.transform(electric_vehicles)"
   ]
  },
  {
   "cell_type": "code",
   "execution_count": null,
   "id": "2d95d5ad-3ed4-44dc-bcab-1977614591bc",
   "metadata": {},
   "outputs": [],
   "source": [
    "electric_vehicles.head"
   ]
  },
  {
   "cell_type": "code",
   "execution_count": null,
   "id": "d83f4c94-dfa1-48aa-9a20-437cf3cded6e",
   "metadata": {},
   "outputs": [],
   "source": [
    "electric_vehicles['Electric_Range_Category']"
   ]
  },
  {
   "cell_type": "code",
   "execution_count": null,
   "id": "c8cb5024-0aad-4bfb-bd06-0bad663c1576",
   "metadata": {},
   "outputs": [],
   "source": [
    "electric_vehicles"
   ]
  },
  {
   "cell_type": "code",
   "execution_count": null,
   "id": "a4994505-89e5-49d7-a833-43e276cca6a3",
   "metadata": {},
   "outputs": [],
   "source": [
    "#columns_to_drop = ['County', 'City', 'State', 'Postal Code']\n",
    "#df = df.drop(columns=columns_to_drop)\n",
    "\n",
    "RANDOM_STATE = 4234\n",
    "TEST_SIZE = 0.3\n",
    "\n",
    "#Add to pipeline\n",
    "col_model_year_index = electric_vehicles.columns.get_loc(\"Model Year\")\n",
    "electric_vehicles.iloc[:, col_model_year_index] = pd.to_numeric(electric_vehicles['Model Year'], errors=\"ignore\") \n",
    "\n",
    "#print(electric_vehicles.dtypes)\n",
    "\n",
    "#assenger_attributes.drop(columns = [\"PassengerId\", \"Name\", \"Cabin\"])\n",
    "#X = electric_vehicles[['Base MSRP', \"Model Year\", 'City', 'State', 'County','Make', 'Model', 'Electric Range']]\n",
    "electric_vehicles_attributes = electric_vehicles.drop(columns=['County', 'City', 'State', 'Make', 'Model',\n",
    "            'Electric Vehicle Type', 'Clean Alternative Fuel Vehicle (CAFV) Eligibility', 'Base MSRP', 'Electric Range', 'Electric Utility', '2020 Census Tract', 'VIN (1-10)', 'Vehicle Location','Electric_Range_Category'])\n",
    "#X = electric_vehicles.drop(columns = ['Electric Range'])\n",
    "\n",
    "electric_vehicles_labels = electric_vehicles['Electric_Range_Category']\n",
    "#scaler = MinMaxScaler()\n",
    "#y = scaler.fit_transform(electric_vehicles['Electric_Range_Category'])\n",
    "\n",
    "electric_vehicles_attributes_train, electric_vehicles_attributes_test, electric_vehicles_labels_train, electric_vehicles_labels_test = \\\n",
    "train_test_split(electric_vehicles_attributes, electric_vehicles_labels, test_size=TEST_SIZE, random_state=RANDOM_STATE)\n",
    "\n",
    "#linear_model = LogisticRegression(C = 1e10)\n",
    "#model = LogisticRegression(C = 10e9)\n",
    "#linear_model.fit(X_train, y_train)\n",
    "\n",
    "#y_pred = linear_model.predict(X_test)"
   ]
  },
  {
   "cell_type": "code",
   "execution_count": null,
   "id": "3873e9a8-019b-45ac-833b-2c2e26a54c7d",
   "metadata": {},
   "outputs": [],
   "source": [
    "electric_vehicles_attributes.head"
   ]
  },
  {
   "cell_type": "code",
   "execution_count": null,
   "id": "4c6ac34d-267a-42dd-a99d-3d1e8f90a12b",
   "metadata": {},
   "outputs": [],
   "source": [
    "electric_vehicles_attributes"
   ]
  },
  {
   "cell_type": "code",
   "execution_count": null,
   "id": "516be07a-af66-4586-b767-f655c0f7269d",
   "metadata": {},
   "outputs": [],
   "source": [
    "vehicles_pipeline = Pipeline( steps = [\n",
    "    #('features', features_vehicles_pipeline), \n",
    "    ('scaling', MinMaxScaler()),\n",
    "    ('model_logistic_regression', LogisticRegression()),\n",
    "]) \n"
   ]
  },
  {
   "cell_type": "code",
   "execution_count": null,
   "id": "a05a75d8-e7a8-4404-a79d-808128d8a3fc",
   "metadata": {},
   "outputs": [],
   "source": [
    "vehicles_pipeline.fit(electric_vehicles_attributes_train, electric_vehicles_labels_train)"
   ]
  },
  {
   "cell_type": "code",
   "execution_count": null,
   "id": "411c711b-6cc6-461e-9487-263d6bf13c05",
   "metadata": {},
   "outputs": [],
   "source": [
    "param_grid = {\n",
    "    'model_logistic_regression__penalty': ['l1', 'l2'],\n",
    "    'model_logistic_regression__C': [0.001, 0.01, 0.1, 1, 10, 100, 1e10]\n",
    "}\n",
    "\n",
    "#grid_search = GridSearchCV(LogisticRegression(solver='lbfgs', max_iter=100), param_grid, cv=5)\n",
    "grid_search = GridSearchCV(vehicles_pipeline, param_grid, cv=5)\n",
    "grid_search.fit(electric_vehicles_attributes_train, electric_vehicles_labels_train)\n",
    "\n",
    "print(\"Best parameters: \", grid_search.best_params_)"
   ]
  },
  {
   "cell_type": "code",
   "execution_count": null,
   "id": "0634c6d0-2250-4dd6-a8d5-64bd5571301a",
   "metadata": {},
   "outputs": [],
   "source": [
    "electric_vehicles_labels_pred = grid_search.predict(electric_vehicles_attributes_test)"
   ]
  },
  {
   "cell_type": "code",
   "execution_count": null,
   "id": "cf60775d-679a-4422-b539-8c9a1ba708cb",
   "metadata": {},
   "outputs": [],
   "source": [
    "electric_vehicles_labels_pred"
   ]
  },
  {
   "cell_type": "code",
   "execution_count": null,
   "id": "c65addec-d7ac-432f-919a-0e37c04b8f05",
   "metadata": {},
   "outputs": [],
   "source": [
    "grid_search.score(electric_vehicles_attributes_train, electric_vehicles_labels_train)"
   ]
  },
  {
   "cell_type": "code",
   "execution_count": null,
   "id": "0001943d-d525-45ec-8e0c-2f3a416c7fb0",
   "metadata": {},
   "outputs": [],
   "source": [
    "grid_search.score(electric_vehicles_attributes_test, electric_vehicles_labels_test)"
   ]
  },
  {
   "cell_type": "code",
   "execution_count": null,
   "id": "57c161df-6784-42c7-807e-114b8a4a2959",
   "metadata": {},
   "outputs": [],
   "source": [
    "grid_search.best_index_"
   ]
  },
  {
   "cell_type": "code",
   "execution_count": null,
   "id": "bd17934f-7da8-4186-a5be-6860561a24fa",
   "metadata": {},
   "outputs": [],
   "source": [
    "\n",
    "\n",
    "from sklearn.ensemble import RandomForestClassifier\n",
    "\n",
    "feat_labels = electric_vehicles_attributes_train.columns[0:]\n",
    "\n",
    "forest = RandomForestClassifier(n_estimators=500,\n",
    "                                random_state=1)\n",
    "\n",
    "forest.fit(electric_vehicles_attributes_train, electric_vehicles_labels_train)\n",
    "#forest.fit(X_train, y_train)\n",
    "importances = forest.feature_importances_\n",
    "\n",
    "indices = np.argsort(importances)[::-1]\n",
    "\n",
    "for f in range(electric_vehicles_attributes_train.shape[1]):\n",
    "    print(\"%2d) %-*s %f\" % (f + 1, 30, \n",
    "                            feat_labels[indices[f]], \n",
    "                            importances[indices[f]]))\n",
    "\n",
    "plt.title('Feature Importance')\n",
    "plt.bar(range(electric_vehicles_attributes_train.shape[1]), \n",
    "        importances[indices],\n",
    "        align='center')\n",
    "\n",
    "plt.xticks(range(electric_vehicles_attributes_train.shape[1]), \n",
    "           feat_labels[indices], rotation=90)\n",
    "plt.xlim([-1, electric_vehicles_attributes_train.shape[1]])\n",
    "plt.tight_layout()\n",
    "#plt.savefig('images/04_09.png', dpi=300)\n",
    "plt.show()\n",
    "\n"
   ]
  },
  {
   "cell_type": "code",
   "execution_count": null,
   "id": "baf7bba3-31c0-4955-ac43-1453044eb7d7",
   "metadata": {},
   "outputs": [],
   "source": [
    "mlflow.log_artifact(\"data/Electric_Vehicle_Population_Data.csv\")"
   ]
  },
  {
   "cell_type": "code",
   "execution_count": null,
   "id": "29e45f58-b39b-41a1-9227-cf073046294e",
   "metadata": {},
   "outputs": [],
   "source": [
    " # Evaluate the model\n",
    "accuracy = accuracy_score(electric_vehicles_labels_test, electric_vehicles_labels_pred)\n",
    "precision, recall, f1_score, _ = precision_recall_fscore_support(electric_vehicles_labels_test, electric_vehicles_labels_pred, average='weighted')\n",
    "\n",
    "# Print the classification report and confusion matrix for each classifier\n",
    "print(f'Best Hyperparameters: {grid_search.best_params_}')\n",
    "print(f'Accuracy: {accuracy:.4f}')\n",
    "print(f'Precision: {precision:.4f}')\n",
    "print(f'Recall: {recall:.4f}')\n",
    "print(f'F1 Score: {f1_score:.4f}\\n')"
   ]
  },
  {
   "cell_type": "code",
   "execution_count": null,
   "id": "43810b0e-4b95-4f79-9ceb-43734e0dc0a1",
   "metadata": {},
   "outputs": [],
   "source": [
    "print(classification_report(electric_vehicles_labels_test, electric_vehicles_labels_pred))"
   ]
  },
  {
   "cell_type": "markdown",
   "id": "ce044962-5abf-42b9-9bb4-65c24a12143f",
   "metadata": {},
   "source": [
    "Base on this resilts we have consider cross-validation or testing on a separate dataset to ensure the generalization of the model."
   ]
  },
  {
   "cell_type": "code",
   "execution_count": null,
   "id": "59a870e3-8d40-434c-bccd-5120b2684657",
   "metadata": {},
   "outputs": [],
   "source": [
    "#Parameters\n",
    "#mlflow.log_param(\"C\", \"100\")\n",
    "mlflow.log_param(\"train_test_split\", True)\n",
    "mlflow.log_param(\"random_state\", RANDOM_STATE)\n",
    "mlflow.log_param(\"test_size\", TEST_SIZE)\n",
    "mlflow.log_param(\"Best parameters\", grid_search.best_params_)\n",
    "\n",
    "# Log the best parameters\n",
    "#mlflow.log_param(\"C\", best_params['classifier__C'])\n",
    "#mlflow.log_param(\"penalty\", best_params['classifier__penalty'])\n",
    "\n",
    "# Log the model\n",
    "#mlflow.sklearn.log_model(\"LogisticRegression\", \"model\")\n",
    "#mlflow.log_model(\"LogisticRegression\", \"model\")\n",
    "#mlflow.log_\n",
    "\n",
    " # Infer the model signature\n",
    "signature = infer_signature(electric_vehicles_attributes_test, electric_vehicles_labels_pred)\n",
    "\n",
    "mlflow.sklearn.log_model(\n",
    "        sk_model=grid_search,\n",
    "        artifact_path=\"sklearn-model\",\n",
    "        signature=signature,\n",
    "        registered_model_name=\"LogisticRegression\",\n",
    "    )\n",
    "\n",
    "# Metics\n",
    "for train_step in range(100):\n",
    "    mlflow.log_metric(\"test_metrics\", train_step **2, step = train_step) # accuracy\n",
    "\n",
    "mlflow.log_metrics({\"mse\": mean_squared_error(electric_vehicles_labels_test, electric_vehicles_labels_pred)})\n",
    "mlflow.log_metrics({\"Correct classification Rate Training data\": grid_search.score(electric_vehicles_attributes_train,electric_vehicles_labels_train)})\n",
    "mlflow.log_metrics({\"Correct classification Rate Test data\": grid_search.score(electric_vehicles_attributes_test,electric_vehicles_labels_test)})\n",
    "mlflow.log_metrics({\"Accuracy\": accuracy})\n",
    "mlflow.log_metrics({\"Precision\" : precision})\n",
    "mlflow.log_metrics({\"Recall\" : recall})\n",
    "mlflow.log_metrics({\"F1 Score\" : f1_score})\n",
    "#mlflow.log_metrics({\"Feature Importance\" : importances})\n"
   ]
  },
  {
   "cell_type": "code",
   "execution_count": null,
   "id": "46a20ae0-a66a-4321-9321-876f699cb8aa",
   "metadata": {},
   "outputs": [],
   "source": [
    "mlflow.end_run()"
   ]
  },
  {
   "cell_type": "markdown",
   "id": "e152e848-dd84-4ea4-8cb1-28249e5aff9c",
   "metadata": {},
   "source": []
  }
 ],
 "metadata": {
  "kernelspec": {
   "display_name": "Python 3 (ipykernel)",
   "language": "python",
   "name": "python3"
  },
  "language_info": {
   "codemirror_mode": {
    "name": "ipython",
    "version": 3
   },
   "file_extension": ".py",
   "mimetype": "text/x-python",
   "name": "python",
   "nbconvert_exporter": "python",
   "pygments_lexer": "ipython3",
   "version": "3.9.2"
  }
 },
 "nbformat": 4,
 "nbformat_minor": 5
}
