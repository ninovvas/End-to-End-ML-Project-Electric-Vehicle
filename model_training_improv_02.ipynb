{
 "cells": [
  {
   "cell_type": "code",
   "execution_count": 1,
   "id": "67f23475-493b-4dc5-bbe1-a5eb8f572afd",
   "metadata": {},
   "outputs": [],
   "source": [
    "%matplotlib inline"
   ]
  },
  {
   "cell_type": "code",
   "execution_count": null,
   "id": "a982b590-35ed-4b3b-beac-57358885b3d9",
   "metadata": {},
   "outputs": [],
   "source": [
    "import pandas as pd\n",
    "import numpy as np\n",
    "import sympy as sp\n",
    "import matplotlib.pyplot as plt\n",
    "\n",
    "from sklearn.linear_model import LogisticRegression\n",
    "from sklearn.metrics import classification_report\n",
    "\n",
    "from sklearn.linear_model import Ridge, Lasso, ElasticNet, SGDClassifier"
   ]
  },
  {
   "cell_type": "markdown",
   "id": "4b7ce067-647d-4760-a9c9-d6278a7a8d33",
   "metadata": {},
   "source": [
    "# Model Training and improvement"
   ]
  },
  {
   "cell_type": "code",
   "execution_count": null,
   "id": "fedc6327-f410-4e8e-8c61-ae98d40d0679",
   "metadata": {},
   "outputs": [],
   "source": []
  }
 ],
 "metadata": {
  "kernelspec": {
   "display_name": "Python 3 (ipykernel)",
   "language": "python",
   "name": "python3"
  },
  "language_info": {
   "codemirror_mode": {
    "name": "ipython",
    "version": 3
   },
   "file_extension": ".py",
   "mimetype": "text/x-python",
   "name": "python",
   "nbconvert_exporter": "python",
   "pygments_lexer": "ipython3",
   "version": "3.9.2"
  }
 },
 "nbformat": 4,
 "nbformat_minor": 5
}
